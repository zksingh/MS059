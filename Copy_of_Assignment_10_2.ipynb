{
  "nbformat": 4,
  "nbformat_minor": 0,
  "metadata": {
    "colab": {
      "name": "Copy of Assignment_10-2.ipynb",
      "provenance": [],
      "collapsed_sections": [],
      "include_colab_link": true
    },
    "kernelspec": {
      "name": "python3",
      "display_name": "Python 3"
    }
  },
  "cells": [
    {
      "cell_type": "markdown",
      "metadata": {
        "id": "view-in-github",
        "colab_type": "text"
      },
      "source": [
        "<a href=\"https://colab.research.google.com/github/zksingh/MS059/blob/master/Copy_of_Assignment_10_2.ipynb\" target=\"_parent\"><img src=\"https://colab.research.google.com/assets/colab-badge.svg\" alt=\"Open In Colab\"/></a>"
      ]
    },
    {
      "cell_type": "markdown",
      "metadata": {
        "id": "1xX06tJF5StF",
        "colab_type": "text"
      },
      "source": [
        "# Assignment Due October 2\n",
        "\n",
        "We can write a function called `summer()` that adds up all of the arguments passed when the function is called. "
      ]
    },
    {
      "cell_type": "code",
      "metadata": {
        "id": "aZrbjrYe5c2x",
        "colab_type": "code",
        "colab": {}
      },
      "source": [
        "def summer(*args):\n",
        "    # add up all of the args!\n",
        "    s = 0\n",
        "    for i in args:\n",
        "        s += i\n",
        "    print(\"Your sum is\", s)"
      ],
      "execution_count": 0,
      "outputs": []
    },
    {
      "cell_type": "markdown",
      "metadata": {
        "id": "6UmkehCS5xx4",
        "colab_type": "text"
      },
      "source": [
        "## Try it out:"
      ]
    },
    {
      "cell_type": "code",
      "metadata": {
        "id": "8Lp06g7V5wnv",
        "colab_type": "code",
        "outputId": "678e90d4-479a-4d45-dc2a-a9af4e3ebf7d",
        "colab": {
          "base_uri": "https://localhost:8080/",
          "height": 34
        }
      },
      "source": [
        "summer(4,5,6,7,8,9.5)  # add arbitrary numbers of ints and floats here"
      ],
      "execution_count": 0,
      "outputs": [
        {
          "output_type": "stream",
          "text": [
            "Your sum is 39.5\n"
          ],
          "name": "stdout"
        }
      ]
    },
    {
      "cell_type": "markdown",
      "metadata": {
        "id": "6rF2sO0N6W57",
        "colab_type": "text"
      },
      "source": [
        "# Can you define a function called `multiplier()` that returns the value of all of the args?\n",
        "\n",
        "Duplicate the structure of `summer()` function above then replace the addition operation with multiplication. Use it like this:\n",
        "\n",
        "```multiplier(2,3,4,10)```\n",
        "\n",
        "to get:\n",
        "\n",
        "```Your mult is 240```\n"
      ]
    },
    {
      "cell_type": "code",
      "metadata": {
        "id": "4gju-Dr76UE8",
        "colab_type": "code",
        "colab": {}
      },
      "source": [
        "def multiplier(*args):\n",
        "    # multiply the args!\n",
        "    # \n",
        "    # \n",
        "    total = 1\n",
        "    for n in args:\n",
        "        total *= n  \n",
        "    return total\n",
        "    print(\"Your mult is\", result)"
      ],
      "execution_count": 0,
      "outputs": []
    },
    {
      "cell_type": "code",
      "metadata": {
        "id": "wJp-EDHi6vvw",
        "colab_type": "code",
        "outputId": "f7691515-53f5-4248-8254-af8a074b8e9c",
        "colab": {
          "base_uri": "https://localhost:8080/",
          "height": 34
        }
      },
      "source": [
        "multiplier(2,3,4,10)"
      ],
      "execution_count": 0,
      "outputs": [
        {
          "output_type": "execute_result",
          "data": {
            "text/plain": [
              "240"
            ]
          },
          "metadata": {
            "tags": []
          },
          "execution_count": 31
        }
      ]
    },
    {
      "cell_type": "code",
      "metadata": {
        "id": "qg4GV3ke6xK3",
        "colab_type": "code",
        "colab": {}
      },
      "source": [
        ""
      ],
      "execution_count": 0,
      "outputs": []
    },
    {
      "cell_type": "markdown",
      "metadata": {
        "id": "YwAUrLRe_XKs",
        "colab_type": "text"
      },
      "source": [
        "# Keyword Args (**kwargs) let you specify an arbitrary number of keywords and values to a function. \n",
        "\n",
        "Can you make a function that will tell you how many birthday candles to order? The only rule is that **any number over 50 should be divided by 10**. Can you fix this function?\n",
        "\n",
        "**Please also add George and Ringo to the `kwargs` giving them whatever age you like.**"
      ]
    },
    {
      "cell_type": "code",
      "metadata": {
        "id": "HhlahpMH__JN",
        "colab_type": "code",
        "outputId": "8cb020a5-1540-445a-e5d6-3294d67aa8f6",
        "colab": {
          "base_uri": "https://localhost:8080/",
          "height": 119
        }
      },
      "source": [
        "def birthdaycandles(**kwargs):\n",
        "  for name,age in kwargs.items():\n",
        "    if age > 50:\n",
        "      # Wait! how do you divide by 10?\n",
        "      numcandles = age/10\n",
        "      print(\"oops! we only have 50 candles!\")\n",
        "    else:\n",
        "      numcandles = age\n",
        "    openstr = \"{} is {} years old and needs {} candles.\"\n",
        "    print(openstr.format(name, age, numcandles))\n",
        "    \n",
        "birthdaycandles(John=11,Paul=73, George=60, Ringo=20)"
      ],
      "execution_count": 0,
      "outputs": [
        {
          "output_type": "stream",
          "text": [
            "John is 11 years old and needs 11 candles.\n",
            "oops!\n",
            "Paul is 73 years old and needs 7.3 candles.\n",
            "oops!\n",
            "George is 60 years old and needs 6.0 candles.\n",
            "Ringo is 20 years old and needs 20 candles.\n"
          ],
          "name": "stdout"
        }
      ]
    },
    {
      "cell_type": "code",
      "metadata": {
        "id": "a34poM8nBgLY",
        "colab_type": "code",
        "colab": {}
      },
      "source": [
        ""
      ],
      "execution_count": 0,
      "outputs": []
    }
  ]
}