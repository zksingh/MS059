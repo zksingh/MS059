{
  "nbformat": 4,
  "nbformat_minor": 0,
  "metadata": {
    "colab": {
      "name": "Copy of temperature converter.ipynb",
      "provenance": [],
      "collapsed_sections": [],
      "include_colab_link": true
    },
    "kernelspec": {
      "name": "python3",
      "display_name": "Python 3"
    }
  },
  "cells": [
    {
      "cell_type": "markdown",
      "metadata": {
        "id": "view-in-github",
        "colab_type": "text"
      },
      "source": [
        "<a href=\"https://colab.research.google.com/github/zksingh/MS059/blob/master/Copy_of_temperature_converter.ipynb\" target=\"_parent\"><img src=\"https://colab.research.google.com/assets/colab-badge.svg\" alt=\"Open In Colab\"/></a>"
      ]
    },
    {
      "cell_type": "markdown",
      "metadata": {
        "id": "Ml2_3Iso2QGF",
        "colab_type": "text"
      },
      "source": [
        "# AltCS | Assignment for Monday, November 4. \n",
        "\n",
        "My friends from France are always estimating the temperature in Celsius and asking me what that is in Fahrenheit. It goes both ways: whenever I say that it must be 100 degrees F they ask what that in in C.\n",
        "\n",
        "Please **create three functions**: \n",
        "\n",
        "1. a subroutine that can convert the temperature in C to F\n",
        "1. another subroutine to convert a temperature from F to C\n",
        "1. and a third main function that will call the appropriate subroutine.\n",
        "\n",
        "Please start your subroutine names with an underbar like this: `_subsubreoutine()`\n",
        "\n",
        "The main function will accept two arguments: a temperature and the scale ('F' or 'C'). It will call the subroutine based on the scale. \n",
        "\n",
        "Please **return integers** -- nobody cares about floating point numbers when it comes to the weather.\n",
        "\n",
        "\n",
        "\n",
        "## Extra Credit!\n",
        "will be given for using the eval_loop() code from today to make this an interactive program!\n"
      ]
    },
    {
      "cell_type": "code",
      "metadata": {
        "id": "eBzdya1i-ExM",
        "colab_type": "code",
        "colab": {}
      },
      "source": [
        "def eval_convertemp():\n",
        "  print(\"\\n1. Celsius to Fahrenheit\")\n",
        "  print(\"2. Fahrenheit to Celsius\")\n",
        "  print(\"3. Exit\")\n",
        "  userChoice = int(input(\"Enter a choice: \"))\n",
        "  return userChoice"
      ],
      "execution_count": 0,
      "outputs": []
    },
    {
      "cell_type": "code",
      "metadata": {
        "id": "xBmCLiZ-2xK-",
        "colab_type": "code",
        "colab": {}
      },
      "source": [
        "# Create a subroutine that accepts one argument temp\n",
        "# and will convert that temp given in Fahrenheit \n",
        "# to Celsius, and return that result as an integer.  \n",
        "\n",
        "# the formula is (temp-in-F − 32) * 5/9\n",
        "\n",
        "def toFarenheit(f):\n",
        "  return int((f * 1.8) + 32)"
      ],
      "execution_count": 0,
      "outputs": []
    },
    {
      "cell_type": "code",
      "metadata": {
        "id": "r5iDDE2d4QSn",
        "colab_type": "code",
        "colab": {}
      },
      "source": [
        "# Create a second subroutine that accepts one argument temp\n",
        "# (the temperature in Celsius)\n",
        "# and convert the value of temp to Farenheit\n",
        "# and return the result as an integer. \n",
        "\n",
        "# Use this formula: (temp-in-C * 9/5) / 32\n",
        "\n",
        "def toCelsius(c):\n",
        "  return int((c - 32)/1.8)"
      ],
      "execution_count": 0,
      "outputs": []
    },
    {
      "cell_type": "code",
      "metadata": {
        "id": "6fs4gBTf43k5",
        "colab_type": "code",
        "colab": {
          "base_uri": "https://localhost:8080/",
          "height": 119
        },
        "outputId": "a01752ba-c331-4538-b7c6-dc4f37004a9f"
      },
      "source": [
        "# Create a third function called converttemp()\n",
        "\n",
        "# This function accepts two arguments: temp and scale\n",
        "# where the scale is either 'F' for Fahrenheit or 'C' for Celsius.\n",
        "\n",
        "# If scale is equal to 'F' , run the subroutine to will convert it to Celsius.\n",
        "# else if scale is equal to 'C' run the sub that will convert temp to Fahrenheit.\n",
        "# else return a polite error that includes the value of scale and explains that scale \n",
        "# must be either 'C' or 'F'\n",
        "\n",
        "def converttemp():\n",
        "  userChoice = eval_convertemp()\n",
        "  while userChoice != 3:\n",
        "    if userChoice == 1:\n",
        "      c = eval(input(\"Type degrees in Celsius: \"))\n",
        "      print(str(c) + \"C = \" + str(toFarenheit(c)) + \"F\")\n",
        "      converttemp()\n",
        "    elif userChoice == 2:\n",
        "      f = eval(input(\"Type degrees in Farenheit: \"))\n",
        "      print(str(f) + \"F = \" + str(toCelsius(f)) + \"C\")\n",
        "      converttemp()\n",
        "    else:\n",
        "      print(\"Invalid choice made. Please pick a valid choice.\")\n",
        "    userChoice = eval_convertemp()\n",
        "  print(\"Bye now!\")\n",
        "converttemp()\n",
        "\n",
        "  "
      ],
      "execution_count": 63,
      "outputs": [
        {
          "output_type": "stream",
          "text": [
            "\n",
            "1. Celsius to Fahrenheit\n",
            "2. Fahrenheit to Celsius\n",
            "3. Exit\n",
            "Enter a choice: 3\n",
            "Bye now!\n"
          ],
          "name": "stdout"
        }
      ]
    },
    {
      "cell_type": "code",
      "metadata": {
        "id": "PEXUuFcu_euM",
        "colab_type": "code",
        "outputId": "5a8dd483-880e-428a-89ef-6f09030b27c9",
        "colab": {
          "base_uri": "https://localhost:8080/",
          "height": 225
        }
      },
      "source": [
        "# Run it!\n",
        "converttemp(88,'F')\n",
        "converttemp(22,'C')"
      ],
      "execution_count": 0,
      "outputs": [
        {
          "output_type": "error",
          "ename": "TypeError",
          "evalue": "ignored",
          "traceback": [
            "\u001b[0;31m---------------------------------------------------------------------------\u001b[0m",
            "\u001b[0;31mTypeError\u001b[0m                                 Traceback (most recent call last)",
            "\u001b[0;32m<ipython-input-36-f0879a4bc642>\u001b[0m in \u001b[0;36m<module>\u001b[0;34m()\u001b[0m\n\u001b[0;32m----> 1\u001b[0;31m \u001b[0mconverttemp\u001b[0m\u001b[0;34m(\u001b[0m\u001b[0;36m88\u001b[0m\u001b[0;34m,\u001b[0m\u001b[0;34m'F'\u001b[0m\u001b[0;34m)\u001b[0m\u001b[0;34m\u001b[0m\u001b[0;34m\u001b[0m\u001b[0m\n\u001b[0m\u001b[1;32m      2\u001b[0m \u001b[0mconverttemp\u001b[0m\u001b[0;34m(\u001b[0m\u001b[0;36m22\u001b[0m\u001b[0;34m,\u001b[0m\u001b[0;34m'C'\u001b[0m\u001b[0;34m)\u001b[0m\u001b[0;34m\u001b[0m\u001b[0;34m\u001b[0m\u001b[0m\n",
            "\u001b[0;31mTypeError\u001b[0m: converttemp() takes 0 positional arguments but 2 were given"
          ]
        }
      ]
    },
    {
      "cell_type": "code",
      "metadata": {
        "id": "fQHRaVht93T8",
        "colab_type": "code",
        "colab": {}
      },
      "source": [
        "# EXTRA CREDIT!\n",
        "\n",
        "# Wrap an eval loop around you main function so that you can keep it open \n",
        "# and ready to give you answers. "
      ],
      "execution_count": 0,
      "outputs": []
    }
  ]
}