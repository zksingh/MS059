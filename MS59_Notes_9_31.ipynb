{
  "nbformat": 4,
  "nbformat_minor": 0,
  "metadata": {
    "colab": {
      "name": "MS59_Notes_9/31.ipynb",
      "provenance": [],
      "include_colab_link": true
    },
    "kernelspec": {
      "name": "python3",
      "display_name": "Python 3"
    }
  },
  "cells": [
    {
      "cell_type": "markdown",
      "metadata": {
        "id": "view-in-github",
        "colab_type": "text"
      },
      "source": [
        "<a href=\"https://colab.research.google.com/github/zksingh/MS059/blob/master/MS59_Notes_9_31.ipynb\" target=\"_parent\"><img src=\"https://colab.research.google.com/assets/colab-badge.svg\" alt=\"Open In Colab\"/></a>"
      ]
    },
    {
      "cell_type": "markdown",
      "metadata": {
        "id": "HwQGSHr3Csw-",
        "colab_type": "text"
      },
      "source": [
        "# The Title (How to Use Markdown)\n",
        "\n",
        "## A Subtitle\n",
        "\n",
        "This is some text. A mistake!\n",
        "\n",
        "### I am a list\n",
        "\n",
        "1. This is a list\n",
        "  1. Another\n",
        "  1. indented\n",
        "  1. list\n",
        "  \n",
        "### bullets\n",
        "\n",
        "- a\n",
        "- the\n",
        "- and\n",
        "\n",
        "I am code()"
      ]
    },
    {
      "cell_type": "code",
      "metadata": {
        "id": "mh3fckhVGNtf",
        "colab_type": "code",
        "outputId": "4971e4f3-d92a-40c0-a8f0-15a03a64cdd0",
        "colab": {
          "base_uri": "https://localhost:8080/",
          "height": 170
        }
      },
      "source": [
        "aList = [\"bowling ball\", \"chainsaw\", \"adze\", \"toothpick\"]\n",
        "anotherlist=[\"pen\", \"pencil\"]\n",
        "\n",
        "def printList(*args):\n",
        "  print(\"things to juggle!\")\n",
        "  for i in aList:\n",
        "    print(i)\n",
        "    print(anotherlist)\n",
        "printList(aList, anotherlist)"
      ],
      "execution_count": 0,
      "outputs": [
        {
          "output_type": "stream",
          "text": [
            "things to juggle!\n",
            "bowling ball\n",
            "['pen', 'pencil']\n",
            "chainsaw\n",
            "['pen', 'pencil']\n",
            "adze\n",
            "['pen', 'pencil']\n",
            "toothpick\n",
            "['pen', 'pencil']\n"
          ],
          "name": "stdout"
        }
      ]
    },
    {
      "cell_type": "code",
      "metadata": {
        "id": "-MOVMVvLRwgW",
        "colab_type": "code",
        "outputId": "07426c09-0582-4bfd-d996-2697224c6165",
        "colab": {
          "base_uri": "https://localhost:8080/",
          "height": 85
        }
      },
      "source": [
        "def printEverythingKwargs(**howdyargs):\n",
        "  print(\"things to juggle by type of difficulty\")\n",
        "  for name, value in howdyargs.items():\n",
        "     print('{0}={1}'.format(name, value))\n",
        "printEverythingKwargs(car ='heavy', box='medium', feather='light')"
      ],
      "execution_count": 0,
      "outputs": [
        {
          "output_type": "stream",
          "text": [
            "things to juggle by type of difficulty\n",
            "car=heavy\n",
            "box=medium\n",
            "feather=light\n"
          ],
          "name": "stdout"
        }
      ]
    }
  ]
}