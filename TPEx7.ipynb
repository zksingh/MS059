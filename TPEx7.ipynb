{
  "nbformat": 4,
  "nbformat_minor": 0,
  "metadata": {
    "colab": {
      "name": "TPEx7.ipynb",
      "provenance": [],
      "collapsed_sections": [],
      "include_colab_link": true
    },
    "kernelspec": {
      "name": "python3",
      "display_name": "Python 3"
    }
  },
  "cells": [
    {
      "cell_type": "markdown",
      "metadata": {
        "id": "view-in-github",
        "colab_type": "text"
      },
      "source": [
        "<a href=\"https://colab.research.google.com/github/zksingh/MS059/blob/master/TPEx7.ipynb\" target=\"_parent\"><img src=\"https://colab.research.google.com/assets/colab-badge.svg\" alt=\"Open In Colab\"/></a>"
      ]
    },
    {
      "cell_type": "markdown",
      "metadata": {
        "id": "RRR-hLXSRQ75",
        "colab_type": "text"
      },
      "source": [
        "Exercises 7.1 and 7.2 from Think Python. \n",
        "\n",
        "note: did not have time to complete the estimate pi function"
      ]
    },
    {
      "cell_type": "code",
      "metadata": {
        "id": "Tj5XZXm_GYRf",
        "colab_type": "code",
        "outputId": "197cb406-9859-4524-8ded-46b5a6de622f",
        "colab": {
          "base_uri": "https://localhost:8080/",
          "height": 221
        }
      },
      "source": [
        "import math\n",
        "\n",
        "def mysqrt(a):\n",
        "  x = 4.0 #value for x\n",
        "  while True:\n",
        "    y = (x + a/x) / 2 #equation for sqrt\n",
        "    if y==x: #if the square root value equals x \n",
        "      return y #return y\n",
        "      break\n",
        "    x=y #otherwise set x equal to y\n",
        "    \n",
        "\n",
        "print(mysqrt(16))\n",
        "\n",
        "#Table to test sanity#\n",
        "\n",
        "def test_square_root():\n",
        "\tprint (\"a\tmysqrt(a)\tmath.sqrt(a)\tdiff\") #header\n",
        "\tprint (\"-\t---------\t------------\t----\") #bars to break \n",
        "\tfor a in range(1, 10): #for a in the range of 1, 10...\n",
        "\t\tprint (\"%.1f\t%.5f\t        %.5f\t        %f\" % (a,mysqrt(a), math.sqrt(a), mysqrt(a)-math.sqrt(a))) #print out a, the sqrt from my func, the math.sqrt, and the diff\n",
        "\t\t\n",
        "test_square_root() #call it!!!\n"
      ],
      "execution_count": 0,
      "outputs": [
        {
          "output_type": "stream",
          "text": [
            "4.0\n",
            "a\tmysqrt(a)\tmath.sqrt(a)\tdiff\n",
            "-\t---------\t------------\t----\n",
            "1.0\t1.00000\t        1.00000\t        0.000000\n",
            "2.0\t1.41421\t        1.41421\t        -0.000000\n",
            "3.0\t1.73205\t        1.73205\t        0.000000\n",
            "4.0\t2.00000\t        2.00000\t        0.000000\n",
            "5.0\t2.23607\t        2.23607\t        0.000000\n",
            "6.0\t2.44949\t        2.44949\t        0.000000\n",
            "7.0\t2.64575\t        2.64575\t        0.000000\n",
            "8.0\t2.82843\t        2.82843\t        -0.000000\n",
            "9.0\t3.00000\t        3.00000\t        0.000000\n"
          ],
          "name": "stdout"
        }
      ]
    },
    {
      "cell_type": "code",
      "metadata": {
        "id": "VAsH_uBBO6X0",
        "colab_type": "code",
        "outputId": "e490857a-9e2f-42a6-f1af-e2375cf2c06c",
        "colab": {
          "base_uri": "https://localhost:8080/",
          "height": 136
        }
      },
      "source": [
        "import math\n",
        "\n",
        "def eval_loop():\n",
        "  while True: #while true...\n",
        "    i = input(\"Input: \") #create a variable to have user input number to evaluate\n",
        "    try:\n",
        "      print(eval(i)) #print out the evaluation of user input i\n",
        "    except(NameError, SyntaxError): #create an exception error\n",
        "      if i == 'done': #if user types done then loop breaks\n",
        "        break\n",
        "      else: #otherwise continue printing i\n",
        "        print(i)\n",
        "        \n",
        "\n",
        "eval_loop()\n"
      ],
      "execution_count": 0,
      "outputs": [
        {
          "output_type": "stream",
          "text": [
            "Input: 6\n",
            "6\n",
            "Input: 4\n",
            "4\n",
            "Input: 5+5+6\n",
            "16\n",
            "Input: done\n"
          ],
          "name": "stdout"
        }
      ]
    }
  ]
}